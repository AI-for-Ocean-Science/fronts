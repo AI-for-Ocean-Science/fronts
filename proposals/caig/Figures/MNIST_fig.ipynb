{
 "cells": [
  {
   "cell_type": "markdown",
   "id": "fc84a1b7-d036-48d1-9303-4921b6dfedae",
   "metadata": {},
   "source": [
    "# Front MNIST"
   ]
  },
  {
   "cell_type": "code",
   "execution_count": 22,
   "id": "0c2f2134-60bb-4adf-94f8-d3e11e858de3",
   "metadata": {},
   "outputs": [],
   "source": [
    "# imports\n",
    "from importlib import reload\n",
    "\n",
    "import os\n",
    "import numpy as np\n",
    "\n",
    "import matplotlib.pyplot as plt\n",
    "\n",
    "import pandas\n",
    "import seaborn as sns\n",
    "import xarray as xr\n",
    "\n",
    "from skimage import filters as sf\n",
    "\n",
    "# ulmo -- on f_s branch\n",
    "from ulmo.llc import kinematics\n",
    "from ulmo.llc import io as llc_io\n",
    "from ulmo import io as ulmo_io\n",
    "from ulmo.plotting import plotting \n",
    "\n",
    "from gsw import density"
   ]
  },
  {
   "cell_type": "code",
   "execution_count": 2,
   "id": "218798e1-0510-4523-9294-14c2329d15f4",
   "metadata": {},
   "outputs": [],
   "source": [
    "#%matplotlib ipympl"
   ]
  },
  {
   "cell_type": "markdown",
   "id": "8d4a3d50-91fd-415a-ae81-f72d27b10fe0",
   "metadata": {},
   "source": [
    "# Load LLC Table (for convenience)"
   ]
  },
  {
   "cell_type": "code",
   "execution_count": 3,
   "id": "aee6bc2c-0ebb-46a1-8186-7b29e28eb8de",
   "metadata": {},
   "outputs": [],
   "source": [
    "llc_tfile = os.path.join(os.getenv('OS_OGCM'), 'LLC', 'Ulmo', 'Tables', 'LLC_uniform144_r0.5_nonoise.parquet')"
   ]
  },
  {
   "cell_type": "code",
   "execution_count": 5,
   "id": "a4648464-df84-4640-885f-236f5519e767",
   "metadata": {},
   "outputs": [
    {
     "name": "stdout",
     "output_type": "stream",
     "text": [
      "Read main table: /home/xavier/Projects/Oceanography/OGCM/LLC/Ulmo/Tables/LLC_uniform144_r0.5_nonoise.parquet\n"
     ]
    },
    {
     "data": {
      "text/html": [
       "<div>\n",
       "<style scoped>\n",
       "    .dataframe tbody tr th:only-of-type {\n",
       "        vertical-align: middle;\n",
       "    }\n",
       "\n",
       "    .dataframe tbody tr th {\n",
       "        vertical-align: top;\n",
       "    }\n",
       "\n",
       "    .dataframe thead th {\n",
       "        text-align: right;\n",
       "    }\n",
       "</style>\n",
       "<table border=\"1\" class=\"dataframe\">\n",
       "  <thead>\n",
       "    <tr style=\"text-align: right;\">\n",
       "      <th></th>\n",
       "      <th>lat</th>\n",
       "      <th>lon</th>\n",
       "      <th>row</th>\n",
       "      <th>col</th>\n",
       "      <th>datetime</th>\n",
       "      <th>filename</th>\n",
       "      <th>pp_file</th>\n",
       "      <th>pp_root</th>\n",
       "      <th>field_size</th>\n",
       "      <th>pp_idx</th>\n",
       "      <th>pp_type</th>\n",
       "      <th>mean_temperature</th>\n",
       "      <th>Tmin</th>\n",
       "      <th>Tmax</th>\n",
       "      <th>T90</th>\n",
       "      <th>T10</th>\n",
       "      <th>LL</th>\n",
       "      <th>DT</th>\n",
       "    </tr>\n",
       "  </thead>\n",
       "  <tbody>\n",
       "    <tr>\n",
       "      <th>0</th>\n",
       "      <td>56.752953</td>\n",
       "      <td>-170.447922</td>\n",
       "      <td>11465</td>\n",
       "      <td>10890</td>\n",
       "      <td>2011-09-18</td>\n",
       "      <td>/data/Projects/Oceanography/data/LLC/ThetaUVSa...</td>\n",
       "      <td>s3://llc/PreProc/LLC_uniform144_nonoise_prepro...</td>\n",
       "      <td>llc_144_nonoise</td>\n",
       "      <td>64</td>\n",
       "      <td>-1</td>\n",
       "      <td>-1</td>\n",
       "      <td>NaN</td>\n",
       "      <td>NaN</td>\n",
       "      <td>NaN</td>\n",
       "      <td>NaN</td>\n",
       "      <td>NaN</td>\n",
       "      <td>NaN</td>\n",
       "      <td>NaN</td>\n",
       "    </tr>\n",
       "    <tr>\n",
       "      <th>1</th>\n",
       "      <td>56.796970</td>\n",
       "      <td>-155.677078</td>\n",
       "      <td>11469</td>\n",
       "      <td>11599</td>\n",
       "      <td>2011-09-18</td>\n",
       "      <td>/data/Projects/Oceanography/data/LLC/ThetaUVSa...</td>\n",
       "      <td>s3://llc/PreProc/LLC_uniform144_nonoise_prepro...</td>\n",
       "      <td>llc_144_nonoise</td>\n",
       "      <td>64</td>\n",
       "      <td>-1</td>\n",
       "      <td>-1</td>\n",
       "      <td>NaN</td>\n",
       "      <td>NaN</td>\n",
       "      <td>NaN</td>\n",
       "      <td>NaN</td>\n",
       "      <td>NaN</td>\n",
       "      <td>NaN</td>\n",
       "      <td>NaN</td>\n",
       "    </tr>\n",
       "    <tr>\n",
       "      <th>2</th>\n",
       "      <td>56.818966</td>\n",
       "      <td>-155.635422</td>\n",
       "      <td>11471</td>\n",
       "      <td>11601</td>\n",
       "      <td>2011-09-18</td>\n",
       "      <td>/data/Projects/Oceanography/data/LLC/ThetaUVSa...</td>\n",
       "      <td>s3://llc/PreProc/LLC_uniform144_nonoise_prepro...</td>\n",
       "      <td>llc_144_nonoise</td>\n",
       "      <td>64</td>\n",
       "      <td>-1</td>\n",
       "      <td>-1</td>\n",
       "      <td>NaN</td>\n",
       "      <td>NaN</td>\n",
       "      <td>NaN</td>\n",
       "      <td>NaN</td>\n",
       "      <td>NaN</td>\n",
       "      <td>NaN</td>\n",
       "      <td>NaN</td>\n",
       "    </tr>\n",
       "    <tr>\n",
       "      <th>3</th>\n",
       "      <td>56.631676</td>\n",
       "      <td>-152.864578</td>\n",
       "      <td>11454</td>\n",
       "      <td>11734</td>\n",
       "      <td>2011-09-18</td>\n",
       "      <td>/data/Projects/Oceanography/data/LLC/ThetaUVSa...</td>\n",
       "      <td>s3://llc/PreProc/LLC_uniform144_nonoise_prepro...</td>\n",
       "      <td>llc_144_nonoise</td>\n",
       "      <td>64</td>\n",
       "      <td>-1</td>\n",
       "      <td>-1</td>\n",
       "      <td>NaN</td>\n",
       "      <td>NaN</td>\n",
       "      <td>NaN</td>\n",
       "      <td>NaN</td>\n",
       "      <td>NaN</td>\n",
       "      <td>NaN</td>\n",
       "      <td>NaN</td>\n",
       "    </tr>\n",
       "    <tr>\n",
       "      <th>4</th>\n",
       "      <td>56.917801</td>\n",
       "      <td>-152.114578</td>\n",
       "      <td>11480</td>\n",
       "      <td>11770</td>\n",
       "      <td>2011-09-18</td>\n",
       "      <td>/data/Projects/Oceanography/data/LLC/ThetaUVSa...</td>\n",
       "      <td>s3://llc/PreProc/LLC_uniform144_nonoise_prepro...</td>\n",
       "      <td>llc_144_nonoise</td>\n",
       "      <td>64</td>\n",
       "      <td>-1</td>\n",
       "      <td>-1</td>\n",
       "      <td>NaN</td>\n",
       "      <td>NaN</td>\n",
       "      <td>NaN</td>\n",
       "      <td>NaN</td>\n",
       "      <td>NaN</td>\n",
       "      <td>NaN</td>\n",
       "      <td>NaN</td>\n",
       "    </tr>\n",
       "  </tbody>\n",
       "</table>\n",
       "</div>"
      ],
      "text/plain": [
       "         lat         lon    row    col   datetime  \\\n",
       "0  56.752953 -170.447922  11465  10890 2011-09-18   \n",
       "1  56.796970 -155.677078  11469  11599 2011-09-18   \n",
       "2  56.818966 -155.635422  11471  11601 2011-09-18   \n",
       "3  56.631676 -152.864578  11454  11734 2011-09-18   \n",
       "4  56.917801 -152.114578  11480  11770 2011-09-18   \n",
       "\n",
       "                                            filename  \\\n",
       "0  /data/Projects/Oceanography/data/LLC/ThetaUVSa...   \n",
       "1  /data/Projects/Oceanography/data/LLC/ThetaUVSa...   \n",
       "2  /data/Projects/Oceanography/data/LLC/ThetaUVSa...   \n",
       "3  /data/Projects/Oceanography/data/LLC/ThetaUVSa...   \n",
       "4  /data/Projects/Oceanography/data/LLC/ThetaUVSa...   \n",
       "\n",
       "                                             pp_file          pp_root  \\\n",
       "0  s3://llc/PreProc/LLC_uniform144_nonoise_prepro...  llc_144_nonoise   \n",
       "1  s3://llc/PreProc/LLC_uniform144_nonoise_prepro...  llc_144_nonoise   \n",
       "2  s3://llc/PreProc/LLC_uniform144_nonoise_prepro...  llc_144_nonoise   \n",
       "3  s3://llc/PreProc/LLC_uniform144_nonoise_prepro...  llc_144_nonoise   \n",
       "4  s3://llc/PreProc/LLC_uniform144_nonoise_prepro...  llc_144_nonoise   \n",
       "\n",
       "   field_size  pp_idx  pp_type  mean_temperature  Tmin  Tmax  T90  T10  LL  DT  \n",
       "0          64      -1       -1               NaN   NaN   NaN  NaN  NaN NaN NaN  \n",
       "1          64      -1       -1               NaN   NaN   NaN  NaN  NaN NaN NaN  \n",
       "2          64      -1       -1               NaN   NaN   NaN  NaN  NaN NaN NaN  \n",
       "3          64      -1       -1               NaN   NaN   NaN  NaN  NaN NaN NaN  \n",
       "4          64      -1       -1               NaN   NaN   NaN  NaN  NaN NaN NaN  "
      ]
     },
     "execution_count": 5,
     "metadata": {},
     "output_type": "execute_result"
    }
   ],
   "source": [
    "llc_u = ulmo_io.load_main_table(llc_tfile)\n",
    "llc_u.head()"
   ]
  },
  {
   "cell_type": "markdown",
   "id": "1ec8d686-f675-4cf2-af0a-cbbaacd3dfb7",
   "metadata": {},
   "source": [
    "## Grab a cutout in Brazil-Malvanis"
   ]
  },
  {
   "cell_type": "code",
   "execution_count": 7,
   "id": "da3e2308-8dc5-4967-b9e4-c49dc73f69c3",
   "metadata": {},
   "outputs": [
    {
     "data": {
      "text/plain": [
       "179.76042"
      ]
     },
     "execution_count": 7,
     "metadata": {},
     "output_type": "execute_result"
    }
   ],
   "source": [
    "llc_u.lon.max()"
   ]
  },
  {
   "cell_type": "code",
   "execution_count": 8,
   "id": "9d4d0b9f-bfbd-4413-a2ba-fbc6226adab8",
   "metadata": {},
   "outputs": [],
   "source": [
    "lat_BM = -42.\n",
    "lon_BM = -50.\n",
    "d = np.sqrt((llc_u.lat-lat_BM)**2 + (llc_u.lon-lon_BM)**2)\n",
    "#"
   ]
  },
  {
   "cell_type": "code",
   "execution_count": 9,
   "id": "46aaceca-4b09-4eb4-990c-a036fb5b0f64",
   "metadata": {},
   "outputs": [
    {
     "data": {
      "text/plain": [
       "lat                                                        -41.811443\n",
       "lon                                                        -49.572918\n",
       "row                                                              5488\n",
       "col                                                             16692\n",
       "datetime                                          2011-11-13 00:00:00\n",
       "filename            /data/Projects/Oceanography/data/LLC/ThetaUVSa...\n",
       "pp_file             s3://llc/PreProc/LLC_uniform144_nonoise_prepro...\n",
       "pp_root                                               llc_144_nonoise\n",
       "field_size                                                         64\n",
       "pp_idx                                                        2275399\n",
       "pp_type                                                             0\n",
       "mean_temperature                                            13.979824\n",
       "Tmin                                                           10.827\n",
       "Tmax                                                        16.655001\n",
       "T90                                                         16.006001\n",
       "T10                                                            11.164\n",
       "LL                                                       -1146.404785\n",
       "DT                                                           4.842001\n",
       "Name: 563460, dtype: object"
      ]
     },
     "execution_count": 9,
     "metadata": {},
     "output_type": "execute_result"
    }
   ],
   "source": [
    "srt = np.argsort(d)\n",
    "# Pick one\n",
    "idx = srt[50]\n",
    "# \n",
    "cutout = llc_u.iloc[idx].copy()\n",
    "cutout"
   ]
  },
  {
   "cell_type": "code",
   "execution_count": 10,
   "id": "b410b12b-a222-4657-a67c-cb4b2dc1cdf1",
   "metadata": {},
   "outputs": [
    {
     "data": {
      "text/plain": [
       "'LLC4320_2011-09-30T00_00_00.nc'"
      ]
     },
     "execution_count": 10,
     "metadata": {},
     "output_type": "execute_result"
    }
   ],
   "source": [
    "cutout.filename = 'LLC4320_2011-09-30T00_00_00.nc'\n",
    "cutout.filename"
   ]
  },
  {
   "cell_type": "markdown",
   "id": "255b8aab-c4e0-404c-abbe-f988c9fa9778",
   "metadata": {},
   "source": [
    "## Load dataset"
   ]
  },
  {
   "cell_type": "code",
   "execution_count": 11,
   "id": "cd403f00-d466-4cba-a647-4a3fbcda0805",
   "metadata": {},
   "outputs": [],
   "source": [
    "ds = xr.open_dataset(os.path.join(os.getenv('OS_OGCM'), 'LLC', 'data', 'ThetaUVWSaltEta', cutout.filename))"
   ]
  },
  {
   "cell_type": "markdown",
   "id": "2b3f6319-a351-410c-8ee3-7259f986c049",
   "metadata": {},
   "source": [
    "## Grab T,S"
   ]
  },
  {
   "cell_type": "code",
   "execution_count": 12,
   "id": "a71a7a2e-841f-4e77-824a-03e4f17b076d",
   "metadata": {},
   "outputs": [],
   "source": [
    "cutout.field_size = 64\n",
    "xoffset = 100\n",
    "yoffset = 350\n",
    "#cutout.field_size = 500\n",
    "#xoffset = 0\n",
    "#yoffset = 0\n",
    "row = cutout.row + yoffset\n",
    "col = cutout.col + xoffset"
   ]
  },
  {
   "cell_type": "code",
   "execution_count": 13,
   "id": "64bee353-b776-4b41-bbdd-24da8be535ba",
   "metadata": {},
   "outputs": [],
   "source": [
    "Theta = ds.Theta[row:row+cutout.field_size, \n",
    "                col:col+cutout.field_size].values"
   ]
  },
  {
   "cell_type": "code",
   "execution_count": 14,
   "id": "797bbeaf-e2dc-445f-8d21-afcb070bdb9f",
   "metadata": {},
   "outputs": [],
   "source": [
    "Salt = ds.Salt[row:row+cutout.field_size, \n",
    "                col:col+cutout.field_size].values"
   ]
  },
  {
   "cell_type": "markdown",
   "id": "6093a4cb-289d-46a4-a217-526769e9eed1",
   "metadata": {},
   "source": [
    "# Front intensity"
   ]
  },
  {
   "cell_type": "code",
   "execution_count": 15,
   "id": "21c5456a-2d4b-40c5-95d9-71f3926485dd",
   "metadata": {},
   "outputs": [],
   "source": [
    "divb_2 = kinematics.calc_gradb(Theta, Salt)"
   ]
  },
  {
   "cell_type": "code",
   "execution_count": 16,
   "id": "b172bc8d-2a30-47f8-a910-727206be52c9",
   "metadata": {},
   "outputs": [
    {
     "data": {
      "text/plain": [
       "6"
      ]
     },
     "execution_count": 16,
     "metadata": {},
     "output_type": "execute_result"
    }
   ],
   "source": [
    "ii = np.argmax(divb_2)\n",
    "ii//500"
   ]
  },
  {
   "cell_type": "markdown",
   "id": "a4da5248-78fc-420b-a48a-d8a87e012daa",
   "metadata": {},
   "source": [
    "## Plot"
   ]
  },
  {
   "cell_type": "code",
   "execution_count": 17,
   "id": "90ea9c98-109e-4006-b3bf-77469205b6a5",
   "metadata": {},
   "outputs": [
    {
     "data": {
      "text/plain": [
       "<Axes: >"
      ]
     },
     "execution_count": 17,
     "metadata": {},
     "output_type": "execute_result"
    },
    {
     "data": {
      "image/png": "[encoded data removed]",
      "text/plain": [
       "<Figure size 640x480 with 2 Axes>"
      ]
     },
     "metadata": {},
     "output_type": "display_data"
    }
   ],
   "source": [
    "plotting.show_image(np.log10(divb_2), vmnx=(-14., -11.3))"
   ]
  },
  {
   "cell_type": "code",
   "execution_count": 18,
   "id": "eeaffe0f-4505-4e0c-89c2-213a333f167d",
   "metadata": {},
   "outputs": [
    {
     "data": {
      "text/plain": [
       "<Axes: >"
      ]
     },
     "execution_count": 18,
     "metadata": {},
     "output_type": "execute_result"
    },
    {
     "data": {
      "image/png": "[encoded data removed]",
      "text/plain": [
       "<Figure size 640x480 with 2 Axes>"
      ]
     },
     "metadata": {},
     "output_type": "display_data"
    }
   ],
   "source": [
    "plotting.show_image(Theta)"
   ]
  },
  {
   "cell_type": "markdown",
   "id": "037bebc2-0559-481d-a345-bf84d0f9e95b",
   "metadata": {},
   "source": [
    "# Salt (smoothed to 40km)"
   ]
  },
  {
   "cell_type": "code",
   "execution_count": 27,
   "id": "e79e5655-dc65-4908-abcd-4eeb86628bfb",
   "metadata": {},
   "outputs": [],
   "source": [
    "#\n",
    "pad = 100\n",
    "pad_Salt = ds.Salt[row-pad:row+cutout.field_size+pad, \n",
    "                col-pad:col+cutout.field_size+pad].values"
   ]
  },
  {
   "cell_type": "markdown",
   "id": "79ed08f3-c622-4515-9224-859981a676ec",
   "metadata": {},
   "source": [
    "### Smooth"
   ]
  },
  {
   "cell_type": "code",
   "execution_count": 32,
   "id": "743b9fcd-1724-452a-a7d3-ef9775f13c8b",
   "metadata": {},
   "outputs": [
    {
     "data": {
      "text/plain": [
       "(64, 64)"
      ]
     },
     "execution_count": 32,
     "metadata": {},
     "output_type": "execute_result"
    }
   ],
   "source": [
    "smooth_salt = sf.gaussian(pad_Salt, 20.)\n",
    "smooth_salt = smooth_salt[pad:-pad, pad:-pad]\n",
    "smooth_salt.shape"
   ]
  },
  {
   "cell_type": "code",
   "execution_count": 33,
   "id": "b7e6cc2c-2508-4673-9055-2d855bb25e0d",
   "metadata": {},
   "outputs": [
    {
     "data": {
      "text/plain": [
       "<Axes: >"
      ]
     },
     "execution_count": 33,
     "metadata": {},
     "output_type": "execute_result"
    },
    {
     "data": {
      "image/png": "[encoded data removed]",
      "text/plain": [
       "<Figure size 640x480 with 2 Axes>"
      ]
     },
     "metadata": {},
     "output_type": "display_data"
    }
   ],
   "source": [
    "plotting.show_image(smooth_salt)"
   ]
  },
  {
   "cell_type": "markdown",
   "id": "9996ee56-53ce-4c13-abd5-33a444d6b2b0",
   "metadata": {},
   "source": [
    "# Eta (smoothed to 7km)"
   ]
  },
  {
   "cell_type": "code",
   "execution_count": 34,
   "id": "f11df30a-1587-4d1c-b925-0031c65fa89b",
   "metadata": {},
   "outputs": [],
   "source": [
    "pad_eta = ds.Eta[row-pad:row+cutout.field_size+pad, \n",
    "                col-pad:col+cutout.field_size+pad].values"
   ]
  },
  {
   "cell_type": "code",
   "execution_count": 39,
   "id": "1f041d1a-a0c4-4fa6-ac26-37f29187d27c",
   "metadata": {},
   "outputs": [],
   "source": [
    "smooth_eta = sf.gaussian(pad_eta, 5.)\n",
    "smooth_eta = smooth_eta[pad:-pad, pad:-pad]"
   ]
  },
  {
   "cell_type": "code",
   "execution_count": 40,
   "id": "b7c86545-1ecd-4a1d-a2de-8cbb09fdfb7e",
   "metadata": {},
   "outputs": [
    {
     "data": {
      "text/plain": [
       "<Axes: >"
      ]
     },
     "execution_count": 40,
     "metadata": {},
     "output_type": "execute_result"
    },
    {
     "data": {
      "image/png": "[encoded data removed]",
      "text/plain": [
       "<Figure size 640x480 with 2 Axes>"
      ]
     },
     "metadata": {},
     "output_type": "display_data"
    }
   ],
   "source": [
    "plotting.show_image(smooth_eta)"
   ]
  },
  {
   "cell_type": "markdown",
   "id": "0f85d6e6-2ceb-428a-9cbe-3d74f6339aac",
   "metadata": {},
   "source": [
    "### No smoothing"
   ]
  },
  {
   "cell_type": "code",
   "execution_count": 37,
   "id": "d4dddd3b-31fc-4bd6-8c97-6abb5a2dd74d",
   "metadata": {},
   "outputs": [],
   "source": [
    "eta = ds.Eta[row:row+cutout.field_size, \n",
    "                col:col+cutout.field_size].values"
   ]
  },
  {
   "cell_type": "code",
   "execution_count": 38,
   "id": "0c139a00-f50a-4e17-9180-10aca1c64303",
   "metadata": {},
   "outputs": [
    {
     "data": {
      "text/plain": [
       "<Axes: >"
      ]
     },
     "execution_count": 38,
     "metadata": {},
     "output_type": "execute_result"
    },
    {
     "data": {
      "image/png": "[encoded data removed]",
      "text/plain": [
       "<Figure size 640x480 with 2 Axes>"
      ]
     },
     "metadata": {},
     "output_type": "display_data"
    }
   ],
   "source": [
    "plotting.show_image(eta)"
   ]
  },
  {
   "cell_type": "markdown",
   "id": "a9a4a1ca-7e6b-4416-adae-fdf341a8d9ad",
   "metadata": {},
   "source": [
    "## Density"
   ]
  },
  {
   "cell_type": "code",
   "execution_count": 41,
   "id": "633cefa2-f708-4f79-b7f5-391503dc3be3",
   "metadata": {},
   "outputs": [],
   "source": [
    "rho = density.rho(Salt, Theta, np.zeros_like(Salt))"
   ]
  },
  {
   "cell_type": "code",
   "execution_count": 42,
   "id": "c5657027-b4f9-400f-bab3-61408d03ffce",
   "metadata": {},
   "outputs": [
    {
     "data": {
      "text/plain": [
       "<Axes: >"
      ]
     },
     "execution_count": 42,
     "metadata": {},
     "output_type": "execute_result"
    },
    {
     "data": {
      "image/png": "[encoded data removed]",
      "text/plain": [
       "<Figure size 640x480 with 2 Axes>"
      ]
     },
     "metadata": {},
     "output_type": "display_data"
    }
   ],
   "source": [
    "plotting.show_image(rho)"
   ]
  },
  {
   "cell_type": "markdown",
   "id": "72b692ca-d800-4d0e-8f8c-7c39076b219f",
   "metadata": {},
   "source": [
    "----"
   ]
  },
  {
   "cell_type": "code",
   "execution_count": 29,
   "id": "fde4ad01-1d8c-4a79-848d-7daeb4b179a2",
   "metadata": {},
   "outputs": [],
   "source": [
    "rho = density.rho(Salt, Theta, np.zeros_like(Salt))"
   ]
  },
  {
   "cell_type": "code",
   "execution_count": 30,
   "id": "3e0102cb-3f10-48b1-b87f-48e3cb221d92",
   "metadata": {},
   "outputs": [
    {
     "data": {
      "text/plain": [
       "array([[1026.47388533, 1026.46577767, 1026.44984166, ..., 1026.58379043,\n",
       "        1026.5930896 , 1026.59635806],\n",
       "       [1026.4714206 , 1026.45679864, 1026.4312677 , ..., 1026.59288672,\n",
       "        1026.59890415, 1026.6006586 ],\n",
       "       [1026.45602867, 1026.43230194, 1026.40570566, ..., 1026.60174436,\n",
       "        1026.60442318, 1026.60297302],\n",
       "       ...,\n",
       "       [1026.37110506, 1026.37077684, 1026.35907003, ..., 1026.31190974,\n",
       "        1026.30993296, 1026.29968728],\n",
       "       [1026.37235209, 1026.37143219, 1026.3582314 , ..., 1026.31705655,\n",
       "        1026.31822415, 1026.31166804],\n",
       "       [1026.37375403, 1026.37087717, 1026.35912649, ..., 1026.32039697,\n",
       "        1026.32218232, 1026.31963496]])"
      ]
     },
     "execution_count": 30,
     "metadata": {},
     "output_type": "execute_result"
    }
   ],
   "source": [
    "rho"
   ]
  },
  {
   "cell_type": "code",
   "execution_count": 95,
   "id": "e7aaf76a-39a6-4174-b3cd-3351badce6d6",
   "metadata": {},
   "outputs": [
    {
     "data": {
      "text/html": [
       "<div><svg style=\"position: absolute; width: 0; height: 0; overflow: hidden\">\n",
       "<defs>\n",
       "<symbol id=\"icon-database\" viewBox=\"0 0 32 32\">\n",
       "<path d=\"M16 0c-8.837 0-16 2.239-16 5v4c0 2.761 7.163 5 16 5s16-2.239 16-5v-4c0-2.761-7.163-5-16-5z\"></path>\n",
       "<path d=\"M16 17c-8.837 0-16-2.239-16-5v6c0 2.761 7.163 5 16 5s16-2.239 16-5v-6c0 2.761-7.163 5-16 5z\"></path>\n",
       "<path d=\"M16 26c-8.837 0-16-2.239-16-5v6c0 2.761 7.163 5 16 5s16-2.239 16-5v-6c0 2.761-7.163 5-16 5z\"></path>\n",
       "</symbol>\n",
       "<symbol id=\"icon-file-text2\" viewBox=\"0 0 32 32\">\n",
       "<path d=\"M28.681 7.159c-0.694-0.947-1.662-2.053-2.724-3.116s-2.169-2.030-3.116-2.724c-1.612-1.182-2.393-1.319-2.841-1.319h-15.5c-1.378 0-2.5 1.121-2.5 2.5v27c0 1.378 1.122 2.5 2.5 2.5h23c1.378 0 2.5-1.122 2.5-2.5v-19.5c0-0.448-0.137-1.23-1.319-2.841zM24.543 5.457c0.959 0.959 1.712 1.825 2.268 2.543h-4.811v-4.811c0.718 0.556 1.584 1.309 2.543 2.268zM28 29.5c0 0.271-0.229 0.5-0.5 0.5h-23c-0.271 0-0.5-0.229-0.5-0.5v-27c0-0.271 0.229-0.5 0.5-0.5 0 0 15.499-0 15.5 0v7c0 0.552 0.448 1 1 1h7v19.5z\"></path>\n",
       "<path d=\"M23 26h-14c-0.552 0-1-0.448-1-1s0.448-1 1-1h14c0.552 0 1 0.448 1 1s-0.448 1-1 1z\"></path>\n",
       "<path d=\"M23 22h-14c-0.552 0-1-0.448-1-1s0.448-1 1-1h14c0.552 0 1 0.448 1 1s-0.448 1-1 1z\"></path>\n",
       "<path d=\"M23 18h-14c-0.552 0-1-0.448-1-1s0.448-1 1-1h14c0.552 0 1 0.448 1 1s-0.448 1-1 1z\"></path>\n",
       "</symbol>\n",
       "</defs>\n",
       "</svg>\n",
       "<style>/* CSS stylesheet for displaying xarray objects in jupyterlab.\n",
       " *\n",
       " */\n",
       "\n",
       ":root {\n",
       "  --xr-font-color0: var(--jp-content-font-color0, rgba(0, 0, 0, 1));\n",
       "  --xr-font-color2: var(--jp-content-font-color2, rgba(0, 0, 0, 0.54));\n",
       "  --xr-font-color3: var(--jp-content-font-color3, rgba(0, 0, 0, 0.38));\n",
       "  --xr-border-color: var(--jp-border-color2, #e0e0e0);\n",
       "  --xr-disabled-color: var(--jp-layout-color3, #bdbdbd);\n",
       "  --xr-background-color: var(--jp-layout-color0, white);\n",
       "  --xr-background-color-row-even: var(--jp-layout-color1, white);\n",
       "  --xr-background-color-row-odd: var(--jp-layout-color2, #eeeeee);\n",
       "}\n",
       "\n",
       "html[theme=dark],\n",
       "body[data-theme=dark],\n",
       "body.vscode-dark {\n",
       "  --xr-font-color0: rgba(255, 255, 255, 1);\n",
       "  --xr-font-color2: rgba(255, 255, 255, 0.54);\n",
       "  --xr-font-color3: rgba(255, 255, 255, 0.38);\n",
       "  --xr-border-color: #1F1F1F;\n",
       "  --xr-disabled-color: #515151;\n",
       "  --xr-background-color: #111111;\n",
       "  --xr-background-color-row-even: #111111;\n",
       "  --xr-background-color-row-odd: #313131;\n",
       "}\n",
       "\n",
       ".xr-wrap {\n",
       "  display: block !important;\n",
       "  min-width: 300px;\n",
       "  max-width: 700px;\n",
       "}\n",
       "\n",
       ".xr-text-repr-fallback {\n",
       "  /* fallback to plain text repr when CSS is not injected (untrusted notebook) */\n",
       "  display: none;\n",
       "}\n",
       "\n",
       ".xr-header {\n",
       "  padding-top: 6px;\n",
       "  padding-bottom: 6px;\n",
       "  margin-bottom: 4px;\n",
       "  border-bottom: solid 1px var(--xr-border-color);\n",
       "}\n",
       "\n",
       ".xr-header > div,\n",
       ".xr-header > ul {\n",
       "  display: inline;\n",
       "  margin-top: 0;\n",
       "  margin-bottom: 0;\n",
       "}\n",
       "\n",
       ".xr-obj-type,\n",
       ".xr-array-name {\n",
       "  margin-left: 2px;\n",
       "  margin-right: 10px;\n",
       "}\n",
       "\n",
       ".xr-obj-type {\n",
       "  color: var(--xr-font-color2);\n",
       "}\n",
       "\n",
       ".xr-sections {\n",
       "  padding-left: 0 !important;\n",
       "  display: grid;\n",
       "  grid-template-columns: 150px auto auto 1fr 20px 20px;\n",
       "}\n",
       "\n",
       ".xr-section-item {\n",
       "  display: contents;\n",
       "}\n",
       "\n",
       ".xr-section-item input {\n",
       "  display: none;\n",
       "}\n",
       "\n",
       ".xr-section-item input + label {\n",
       "  color: var(--xr-disabled-color);\n",
       "}\n",
       "\n",
       ".xr-section-item input:enabled + label {\n",
       "  cursor: pointer;\n",
       "  color: var(--xr-font-color2);\n",
       "}\n",
       "\n",
       ".xr-section-item input:enabled + label:hover {\n",
       "  color: var(--xr-font-color0);\n",
       "}\n",
       "\n",
       ".xr-section-summary {\n",
       "  grid-column: 1;\n",
       "  color: var(--xr-font-color2);\n",
       "  font-weight: 500;\n",
       "}\n",
       "\n",
       ".xr-section-summary > span {\n",
       "  display: inline-block;\n",
       "  padding-left: 0.5em;\n",
       "}\n",
       "\n",
       ".xr-section-summary-in:disabled + label {\n",
       "  color: var(--xr-font-color2);\n",
       "}\n",
       "\n",
       ".xr-section-summary-in + label:before {\n",
       "  display: inline-block;\n",
       "  content: '►';\n",
       "  font-size: 11px;\n",
       "  width: 15px;\n",
       "  text-align: center;\n",
       "}\n",
       "\n",
       ".xr-section-summary-in:disabled + label:before {\n",
       "  color: var(--xr-disabled-color);\n",
       "}\n",
       "\n",
       ".xr-section-summary-in:checked + label:before {\n",
       "  content: '▼';\n",
       "}\n",
       "\n",
       ".xr-section-summary-in:checked + label > span {\n",
       "  display: none;\n",
       "}\n",
       "\n",
       ".xr-section-summary,\n",
       ".xr-section-inline-details {\n",
       "  padding-top: 4px;\n",
       "  padding-bottom: 4px;\n",
       "}\n",
       "\n",
       ".xr-section-inline-details {\n",
       "  grid-column: 2 / -1;\n",
       "}\n",
       "\n",
       ".xr-section-details {\n",
       "  display: none;\n",
       "  grid-column: 1 / -1;\n",
       "  margin-bottom: 5px;\n",
       "}\n",
       "\n",
       ".xr-section-summary-in:checked ~ .xr-section-details {\n",
       "  display: contents;\n",
       "}\n",
       "\n",
       ".xr-array-wrap {\n",
       "  grid-column: 1 / -1;\n",
       "  display: grid;\n",
       "  grid-template-columns: 20px auto;\n",
       "}\n",
       "\n",
       ".xr-array-wrap > label {\n",
       "  grid-column: 1;\n",
       "  vertical-align: top;\n",
       "}\n",
       "\n",
       ".xr-preview {\n",
       "  color: var(--xr-font-color3);\n",
       "}\n",
       "\n",
       ".xr-array-preview,\n",
       ".xr-array-data {\n",
       "  padding: 0 5px !important;\n",
       "  grid-column: 2;\n",
       "}\n",
       "\n",
       ".xr-array-data,\n",
       ".xr-array-in:checked ~ .xr-array-preview {\n",
       "  display: none;\n",
       "}\n",
       "\n",
       ".xr-array-in:checked ~ .xr-array-data,\n",
       ".xr-array-preview {\n",
       "  display: inline-block;\n",
       "}\n",
       "\n",
       ".xr-dim-list {\n",
       "  display: inline-block !important;\n",
       "  list-style: none;\n",
       "  padding: 0 !important;\n",
       "  margin: 0;\n",
       "}\n",
       "\n",
       ".xr-dim-list li {\n",
       "  display: inline-block;\n",
       "  padding: 0;\n",
       "  margin: 0;\n",
       "}\n",
       "\n",
       ".xr-dim-list:before {\n",
       "  content: '(';\n",
       "}\n",
       "\n",
       ".xr-dim-list:after {\n",
       "  content: ')';\n",
       "}\n",
       "\n",
       ".xr-dim-list li:not(:last-child):after {\n",
       "  content: ',';\n",
       "  padding-right: 5px;\n",
       "}\n",
       "\n",
       ".xr-has-index {\n",
       "  font-weight: bold;\n",
       "}\n",
       "\n",
       ".xr-var-list,\n",
       ".xr-var-item {\n",
       "  display: contents;\n",
       "}\n",
       "\n",
       ".xr-var-item > div,\n",
       ".xr-var-item label,\n",
       ".xr-var-item > .xr-var-name span {\n",
       "  background-color: var(--xr-background-color-row-even);\n",
       "  margin-bottom: 0;\n",
       "}\n",
       "\n",
       ".xr-var-item > .xr-var-name:hover span {\n",
       "  padding-right: 5px;\n",
       "}\n",
       "\n",
       ".xr-var-list > li:nth-child(odd) > div,\n",
       ".xr-var-list > li:nth-child(odd) > label,\n",
       ".xr-var-list > li:nth-child(odd) > .xr-var-name span {\n",
       "  background-color: var(--xr-background-color-row-odd);\n",
       "}\n",
       "\n",
       ".xr-var-name {\n",
       "  grid-column: 1;\n",
       "}\n",
       "\n",
       ".xr-var-dims {\n",
       "  grid-column: 2;\n",
       "}\n",
       "\n",
       ".xr-var-dtype {\n",
       "  grid-column: 3;\n",
       "  text-align: right;\n",
       "  color: var(--xr-font-color2);\n",
       "}\n",
       "\n",
       ".xr-var-preview {\n",
       "  grid-column: 4;\n",
       "}\n",
       "\n",
       ".xr-index-preview {\n",
       "  grid-column: 2 / 5;\n",
       "  color: var(--xr-font-color2);\n",
       "}\n",
       "\n",
       ".xr-var-name,\n",
       ".xr-var-dims,\n",
       ".xr-var-dtype,\n",
       ".xr-preview,\n",
       ".xr-attrs dt {\n",
       "  white-space: nowrap;\n",
       "  overflow: hidden;\n",
       "  text-overflow: ellipsis;\n",
       "  padding-right: 10px;\n",
       "}\n",
       "\n",
       ".xr-var-name:hover,\n",
       ".xr-var-dims:hover,\n",
       ".xr-var-dtype:hover,\n",
       ".xr-attrs dt:hover {\n",
       "  overflow: visible;\n",
       "  width: auto;\n",
       "  z-index: 1;\n",
       "}\n",
       "\n",
       ".xr-var-attrs,\n",
       ".xr-var-data,\n",
       ".xr-index-data {\n",
       "  display: none;\n",
       "  background-color: var(--xr-background-color) !important;\n",
       "  padding-bottom: 5px !important;\n",
       "}\n",
       "\n",
       ".xr-var-attrs-in:checked ~ .xr-var-attrs,\n",
       ".xr-var-data-in:checked ~ .xr-var-data,\n",
       ".xr-index-data-in:checked ~ .xr-index-data {\n",
       "  display: block;\n",
       "}\n",
       "\n",
       ".xr-var-data > table {\n",
       "  float: right;\n",
       "}\n",
       "\n",
       ".xr-var-name span,\n",
       ".xr-var-data,\n",
       ".xr-index-name div,\n",
       ".xr-index-data,\n",
       ".xr-attrs {\n",
       "  padding-left: 25px !important;\n",
       "}\n",
       "\n",
       ".xr-attrs,\n",
       ".xr-var-attrs,\n",
       ".xr-var-data,\n",
       ".xr-index-data {\n",
       "  grid-column: 1 / -1;\n",
       "}\n",
       "\n",
       "dl.xr-attrs {\n",
       "  padding: 0;\n",
       "  margin: 0;\n",
       "  display: grid;\n",
       "  grid-template-columns: 125px auto;\n",
       "}\n",
       "\n",
       ".xr-attrs dt,\n",
       ".xr-attrs dd {\n",
       "  padding: 0;\n",
       "  margin: 0;\n",
       "  float: left;\n",
       "  padding-right: 10px;\n",
       "  width: auto;\n",
       "}\n",
       "\n",
       ".xr-attrs dt {\n",
       "  font-weight: normal;\n",
       "  grid-column: 1;\n",
       "}\n",
       "\n",
       ".xr-attrs dt:hover span {\n",
       "  display: inline-block;\n",
       "  background: var(--xr-background-color);\n",
       "  padding-right: 10px;\n",
       "}\n",
       "\n",
       ".xr-attrs dd {\n",
       "  grid-column: 2;\n",
       "  white-space: pre-wrap;\n",
       "  word-break: break-all;\n",
       "}\n",
       "\n",
       ".xr-icon-database,\n",
       ".xr-icon-file-text2,\n",
       ".xr-no-icon {\n",
       "  display: inline-block;\n",
       "  vertical-align: middle;\n",
       "  width: 1em;\n",
       "  height: 1.5em !important;\n",
       "  stroke-width: 0;\n",
       "  stroke: currentColor;\n",
       "  fill: currentColor;\n",
       "}\n",
       "</style><pre class='xr-text-repr-fallback'>&lt;xarray.Dataset&gt;\n",
       "Dimensions:  (i: 17280, i_g: 17280, j: 12960, j_g: 12960, k_l: 1)\n",
       "Coordinates:\n",
       "  * i        (i) int64 0 1 2 3 4 5 6 ... 17274 17275 17276 17277 17278 17279\n",
       "  * i_g      (i_g) int64 0 1 2 3 4 5 6 ... 17274 17275 17276 17277 17278 17279\n",
       "  * j        (j) int64 0 1 2 3 4 5 6 ... 12954 12955 12956 12957 12958 12959\n",
       "  * j_g      (j_g) int64 0 1 2 3 4 5 6 ... 12954 12955 12956 12957 12958 12959\n",
       "Dimensions without coordinates: k_l\n",
       "Data variables:\n",
       "    Theta    (j, i) float32 ...\n",
       "    U        (j, i_g) float32 ...\n",
       "    V        (j_g, i) float32 ...\n",
       "    W        (k_l, j, i) float32 ...\n",
       "    Salt     (j, i) float32 ...</pre><div class='xr-wrap' style='display:none'><div class='xr-header'><div class='xr-obj-type'>xarray.Dataset</div></div><ul class='xr-sections'><li class='xr-section-item'><input id='section-92f9332b-a89b-48a9-ab45-b3a9684f7865' class='xr-section-summary-in' type='checkbox' disabled ><label for='section-92f9332b-a89b-48a9-ab45-b3a9684f7865' class='xr-section-summary'  title='Expand/collapse section'>Dimensions:</label><div class='xr-section-inline-details'><ul class='xr-dim-list'><li><span class='xr-has-index'>i</span>: 17280</li><li><span class='xr-has-index'>i_g</span>: 17280</li><li><span class='xr-has-index'>j</span>: 12960</li><li><span class='xr-has-index'>j_g</span>: 12960</li><li><span>k_l</span>: 1</li></ul></div><div class='xr-section-details'></div></li><li class='xr-section-item'><input id='section-75dbb572-fd10-4c9e-81d7-6c490bc6c84b' class='xr-section-summary-in' type='checkbox'  checked><label for='section-75dbb572-fd10-4c9e-81d7-6c490bc6c84b' class='xr-section-summary' >Coordinates: <span>(4)</span></label><div class='xr-section-inline-details'></div><div class='xr-section-details'><ul class='xr-var-list'><li class='xr-var-item'><div class='xr-var-name'><span class='xr-has-index'>i</span></div><div class='xr-var-dims'>(i)</div><div class='xr-var-dtype'>int64</div><div class='xr-var-preview xr-preview'>0 1 2 3 ... 17276 17277 17278 17279</div><input id='attrs-4281369d-cdbb-47a7-8aef-98c3b52f937c' class='xr-var-attrs-in' type='checkbox' ><label for='attrs-4281369d-cdbb-47a7-8aef-98c3b52f937c' title='Show/Hide attributes'><svg class='icon xr-icon-file-text2'><use xlink:href='#icon-file-text2'></use></svg></label><input id='data-de74ba30-896c-43d7-85f3-ebbab06e7d3b' class='xr-var-data-in' type='checkbox'><label for='data-de74ba30-896c-43d7-85f3-ebbab06e7d3b' title='Show/Hide data repr'><svg class='icon xr-icon-database'><use xlink:href='#icon-database'></use></svg></label><div class='xr-var-attrs'><dl class='xr-attrs'><dt><span>standard_name :</span></dt><dd>x_grid_index</dd><dt><span>axis :</span></dt><dd>X</dd><dt><span>long_name :</span></dt><dd>x-dimension of the t grid</dd><dt><span>swap_dim :</span></dt><dd>XC</dd></dl></div><div class='xr-var-data'><pre>array([    0,     1,     2, ..., 17277, 17278, 17279])</pre></div></li><li class='xr-var-item'><div class='xr-var-name'><span class='xr-has-index'>i_g</span></div><div class='xr-var-dims'>(i_g)</div><div class='xr-var-dtype'>int64</div><div class='xr-var-preview xr-preview'>0 1 2 3 ... 17276 17277 17278 17279</div><input id='attrs-4aba2042-50cd-45ed-bf00-16eca245b233' class='xr-var-attrs-in' type='checkbox' ><label for='attrs-4aba2042-50cd-45ed-bf00-16eca245b233' title='Show/Hide attributes'><svg class='icon xr-icon-file-text2'><use xlink:href='#icon-file-text2'></use></svg></label><input id='data-b011c2bd-2b8d-471a-bdba-507ed8ba34fe' class='xr-var-data-in' type='checkbox'><label for='data-b011c2bd-2b8d-471a-bdba-507ed8ba34fe' title='Show/Hide data repr'><svg class='icon xr-icon-database'><use xlink:href='#icon-database'></use></svg></label><div class='xr-var-attrs'><dl class='xr-attrs'><dt><span>standard_name :</span></dt><dd>x_grid_index_at_u_location</dd><dt><span>axis :</span></dt><dd>X</dd><dt><span>long_name :</span></dt><dd>x-dimension of the u grid</dd><dt><span>c_grid_axis_shift :</span></dt><dd>-0.5</dd><dt><span>swap_dim :</span></dt><dd>XG</dd></dl></div><div class='xr-var-data'><pre>array([    0,     1,     2, ..., 17277, 17278, 17279])</pre></div></li><li class='xr-var-item'><div class='xr-var-name'><span class='xr-has-index'>j</span></div><div class='xr-var-dims'>(j)</div><div class='xr-var-dtype'>int64</div><div class='xr-var-preview xr-preview'>0 1 2 3 ... 12956 12957 12958 12959</div><input id='attrs-d531a801-fd44-405d-b87d-1c300fb7a1f1' class='xr-var-attrs-in' type='checkbox' ><label for='attrs-d531a801-fd44-405d-b87d-1c300fb7a1f1' title='Show/Hide attributes'><svg class='icon xr-icon-file-text2'><use xlink:href='#icon-file-text2'></use></svg></label><input id='data-db551ea2-f73e-4847-b63b-b33770bd6949' class='xr-var-data-in' type='checkbox'><label for='data-db551ea2-f73e-4847-b63b-b33770bd6949' title='Show/Hide data repr'><svg class='icon xr-icon-database'><use xlink:href='#icon-database'></use></svg></label><div class='xr-var-attrs'><dl class='xr-attrs'><dt><span>standard_name :</span></dt><dd>y_grid_index</dd><dt><span>axis :</span></dt><dd>Y</dd><dt><span>long_name :</span></dt><dd>y-dimension of the t grid</dd><dt><span>swap_dim :</span></dt><dd>YC</dd></dl></div><div class='xr-var-data'><pre>array([    0,     1,     2, ..., 12957, 12958, 12959])</pre></div></li><li class='xr-var-item'><div class='xr-var-name'><span class='xr-has-index'>j_g</span></div><div class='xr-var-dims'>(j_g)</div><div class='xr-var-dtype'>int64</div><div class='xr-var-preview xr-preview'>0 1 2 3 ... 12956 12957 12958 12959</div><input id='attrs-df074c5e-522d-4d24-b0b2-c2501bbbbd13' class='xr-var-attrs-in' type='checkbox' ><label for='attrs-df074c5e-522d-4d24-b0b2-c2501bbbbd13' title='Show/Hide attributes'><svg class='icon xr-icon-file-text2'><use xlink:href='#icon-file-text2'></use></svg></label><input id='data-17bd43c4-684e-4059-bb3e-fc7bb4a2c37c' class='xr-var-data-in' type='checkbox'><label for='data-17bd43c4-684e-4059-bb3e-fc7bb4a2c37c' title='Show/Hide data repr'><svg class='icon xr-icon-database'><use xlink:href='#icon-database'></use></svg></label><div class='xr-var-attrs'><dl class='xr-attrs'><dt><span>standard_name :</span></dt><dd>y_grid_index_at_v_location</dd><dt><span>axis :</span></dt><dd>Y</dd><dt><span>long_name :</span></dt><dd>y-dimension of the v grid</dd><dt><span>c_grid_axis_shift :</span></dt><dd>-0.5</dd><dt><span>swap_dim :</span></dt><dd>YG</dd></dl></div><div class='xr-var-data'><pre>array([    0,     1,     2, ..., 12957, 12958, 12959])</pre></div></li></ul></div></li><li class='xr-section-item'><input id='section-44f3fd66-4341-43fe-8d06-ebff2c172cb7' class='xr-section-summary-in' type='checkbox'  checked><label for='section-44f3fd66-4341-43fe-8d06-ebff2c172cb7' class='xr-section-summary' >Data variables: <span>(5)</span></label><div class='xr-section-inline-details'></div><div class='xr-section-details'><ul class='xr-var-list'><li class='xr-var-item'><div class='xr-var-name'><span>Theta</span></div><div class='xr-var-dims'>(j, i)</div><div class='xr-var-dtype'>float32</div><div class='xr-var-preview xr-preview'>...</div><input id='attrs-b88ee1f2-9600-4e4c-a0e0-3d045b15dcd8' class='xr-var-attrs-in' type='checkbox' ><label for='attrs-b88ee1f2-9600-4e4c-a0e0-3d045b15dcd8' title='Show/Hide attributes'><svg class='icon xr-icon-file-text2'><use xlink:href='#icon-file-text2'></use></svg></label><input id='data-362811f0-4bbd-40f7-9354-33ffa904571f' class='xr-var-data-in' type='checkbox'><label for='data-362811f0-4bbd-40f7-9354-33ffa904571f' title='Show/Hide data repr'><svg class='icon xr-icon-database'><use xlink:href='#icon-database'></use></svg></label><div class='xr-var-attrs'><dl class='xr-attrs'><dt><span>standard_name :</span></dt><dd>THETA</dd><dt><span>long_name :</span></dt><dd>Potential Temperature</dd><dt><span>units :</span></dt><dd>degC</dd></dl></div><div class='xr-var-data'><pre>[223948800 values with dtype=float32]</pre></div></li><li class='xr-var-item'><div class='xr-var-name'><span>U</span></div><div class='xr-var-dims'>(j, i_g)</div><div class='xr-var-dtype'>float32</div><div class='xr-var-preview xr-preview'>...</div><input id='attrs-70e93b34-9161-4fe2-9b75-d3bcb8cae9c5' class='xr-var-attrs-in' type='checkbox' ><label for='attrs-70e93b34-9161-4fe2-9b75-d3bcb8cae9c5' title='Show/Hide attributes'><svg class='icon xr-icon-file-text2'><use xlink:href='#icon-file-text2'></use></svg></label><input id='data-236c5a09-bd30-42fe-b7a4-4de0a8d62d0f' class='xr-var-data-in' type='checkbox'><label for='data-236c5a09-bd30-42fe-b7a4-4de0a8d62d0f' title='Show/Hide data repr'><svg class='icon xr-icon-database'><use xlink:href='#icon-database'></use></svg></label><div class='xr-var-attrs'><dl class='xr-attrs'><dt><span>standard_name :</span></dt><dd>sea_water_x_velocity</dd><dt><span>mate :</span></dt><dd>V</dd><dt><span>long_name :</span></dt><dd>Zonal Component of Velocity</dd><dt><span>units :</span></dt><dd>m s-1</dd></dl></div><div class='xr-var-data'><pre>[223948800 values with dtype=float32]</pre></div></li><li class='xr-var-item'><div class='xr-var-name'><span>V</span></div><div class='xr-var-dims'>(j_g, i)</div><div class='xr-var-dtype'>float32</div><div class='xr-var-preview xr-preview'>...</div><input id='attrs-ca2ca112-d501-417f-b0ef-d50d3f956ae0' class='xr-var-attrs-in' type='checkbox' ><label for='attrs-ca2ca112-d501-417f-b0ef-d50d3f956ae0' title='Show/Hide attributes'><svg class='icon xr-icon-file-text2'><use xlink:href='#icon-file-text2'></use></svg></label><input id='data-2872caee-f3bb-4d50-8016-02885021f5ae' class='xr-var-data-in' type='checkbox'><label for='data-2872caee-f3bb-4d50-8016-02885021f5ae' title='Show/Hide data repr'><svg class='icon xr-icon-database'><use xlink:href='#icon-database'></use></svg></label><div class='xr-var-attrs'><dl class='xr-attrs'><dt><span>standard_name :</span></dt><dd>sea_water_y_velocity</dd><dt><span>mate :</span></dt><dd>U</dd><dt><span>long_name :</span></dt><dd>Meridional Component of Velocity</dd><dt><span>units :</span></dt><dd>m s-1</dd></dl></div><div class='xr-var-data'><pre>[223948800 values with dtype=float32]</pre></div></li><li class='xr-var-item'><div class='xr-var-name'><span>W</span></div><div class='xr-var-dims'>(k_l, j, i)</div><div class='xr-var-dtype'>float32</div><div class='xr-var-preview xr-preview'>...</div><input id='attrs-8f057937-4f0c-450c-bbd1-d094ddb09e40' class='xr-var-attrs-in' type='checkbox' ><label for='attrs-8f057937-4f0c-450c-bbd1-d094ddb09e40' title='Show/Hide attributes'><svg class='icon xr-icon-file-text2'><use xlink:href='#icon-file-text2'></use></svg></label><input id='data-623fe47f-070c-4d66-a05b-a12df4a49e47' class='xr-var-data-in' type='checkbox'><label for='data-623fe47f-070c-4d66-a05b-a12df4a49e47' title='Show/Hide data repr'><svg class='icon xr-icon-database'><use xlink:href='#icon-database'></use></svg></label><div class='xr-var-attrs'><dl class='xr-attrs'><dt><span>standard_name :</span></dt><dd>sea_water_z_velocity</dd><dt><span>long_name :</span></dt><dd>Vertical Component of Velocity</dd><dt><span>units :</span></dt><dd>m s-1</dd></dl></div><div class='xr-var-data'><pre>[223948800 values with dtype=float32]</pre></div></li><li class='xr-var-item'><div class='xr-var-name'><span>Salt</span></div><div class='xr-var-dims'>(j, i)</div><div class='xr-var-dtype'>float32</div><div class='xr-var-preview xr-preview'>...</div><input id='attrs-e03b4be0-c7ef-418b-81bb-a4fcce35a957' class='xr-var-attrs-in' type='checkbox' ><label for='attrs-e03b4be0-c7ef-418b-81bb-a4fcce35a957' title='Show/Hide attributes'><svg class='icon xr-icon-file-text2'><use xlink:href='#icon-file-text2'></use></svg></label><input id='data-05f708b2-a8b8-495c-9d1a-85ce6d5e2a69' class='xr-var-data-in' type='checkbox'><label for='data-05f708b2-a8b8-495c-9d1a-85ce6d5e2a69' title='Show/Hide data repr'><svg class='icon xr-icon-database'><use xlink:href='#icon-database'></use></svg></label><div class='xr-var-attrs'><dl class='xr-attrs'><dt><span>standard_name :</span></dt><dd>SALT</dd><dt><span>long_name :</span></dt><dd>Salinity</dd><dt><span>units :</span></dt><dd>psu</dd></dl></div><div class='xr-var-data'><pre>[223948800 values with dtype=float32]</pre></div></li></ul></div></li><li class='xr-section-item'><input id='section-8bfb7008-91aa-461b-b8f0-366971370579' class='xr-section-summary-in' type='checkbox'  ><label for='section-8bfb7008-91aa-461b-b8f0-366971370579' class='xr-section-summary' >Indexes: <span>(4)</span></label><div class='xr-section-inline-details'></div><div class='xr-section-details'><ul class='xr-var-list'><li class='xr-var-item'><div class='xr-index-name'><div>i</div></div><div class='xr-index-preview'>PandasIndex</div><div></div><input id='index-598a0fed-bcb6-4213-af2e-99151af93f0a' class='xr-index-data-in' type='checkbox'/><label for='index-598a0fed-bcb6-4213-af2e-99151af93f0a' title='Show/Hide index repr'><svg class='icon xr-icon-database'><use xlink:href='#icon-database'></use></svg></label><div class='xr-index-data'><pre>PandasIndex(Index([    0,     1,     2,     3,     4,     5,     6,     7,     8,     9,\n",
       "       ...\n",
       "       17270, 17271, 17272, 17273, 17274, 17275, 17276, 17277, 17278, 17279],\n",
       "      dtype=&#x27;int64&#x27;, name=&#x27;i&#x27;, length=17280))</pre></div></li><li class='xr-var-item'><div class='xr-index-name'><div>i_g</div></div><div class='xr-index-preview'>PandasIndex</div><div></div><input id='index-9d90ebcc-a35a-406d-9ec3-e9b904becac9' class='xr-index-data-in' type='checkbox'/><label for='index-9d90ebcc-a35a-406d-9ec3-e9b904becac9' title='Show/Hide index repr'><svg class='icon xr-icon-database'><use xlink:href='#icon-database'></use></svg></label><div class='xr-index-data'><pre>PandasIndex(Index([    0,     1,     2,     3,     4,     5,     6,     7,     8,     9,\n",
       "       ...\n",
       "       17270, 17271, 17272, 17273, 17274, 17275, 17276, 17277, 17278, 17279],\n",
       "      dtype=&#x27;int64&#x27;, name=&#x27;i_g&#x27;, length=17280))</pre></div></li><li class='xr-var-item'><div class='xr-index-name'><div>j</div></div><div class='xr-index-preview'>PandasIndex</div><div></div><input id='index-8e77b64f-1ab4-4c5a-84e9-f44cdb6ba795' class='xr-index-data-in' type='checkbox'/><label for='index-8e77b64f-1ab4-4c5a-84e9-f44cdb6ba795' title='Show/Hide index repr'><svg class='icon xr-icon-database'><use xlink:href='#icon-database'></use></svg></label><div class='xr-index-data'><pre>PandasIndex(Index([    0,     1,     2,     3,     4,     5,     6,     7,     8,     9,\n",
       "       ...\n",
       "       12950, 12951, 12952, 12953, 12954, 12955, 12956, 12957, 12958, 12959],\n",
       "      dtype=&#x27;int64&#x27;, name=&#x27;j&#x27;, length=12960))</pre></div></li><li class='xr-var-item'><div class='xr-index-name'><div>j_g</div></div><div class='xr-index-preview'>PandasIndex</div><div></div><input id='index-d8b276fd-5489-4e4a-bb5b-24b29d60270e' class='xr-index-data-in' type='checkbox'/><label for='index-d8b276fd-5489-4e4a-bb5b-24b29d60270e' title='Show/Hide index repr'><svg class='icon xr-icon-database'><use xlink:href='#icon-database'></use></svg></label><div class='xr-index-data'><pre>PandasIndex(Index([    0,     1,     2,     3,     4,     5,     6,     7,     8,     9,\n",
       "       ...\n",
       "       12950, 12951, 12952, 12953, 12954, 12955, 12956, 12957, 12958, 12959],\n",
       "      dtype=&#x27;int64&#x27;, name=&#x27;j_g&#x27;, length=12960))</pre></div></li></ul></div></li><li class='xr-section-item'><input id='section-66202941-9ef9-4399-bf03-869e3e1282fa' class='xr-section-summary-in' type='checkbox' disabled ><label for='section-66202941-9ef9-4399-bf03-869e3e1282fa' class='xr-section-summary'  title='Expand/collapse section'>Attributes: <span>(0)</span></label><div class='xr-section-inline-details'></div><div class='xr-section-details'><dl class='xr-attrs'></dl></div></li></ul></div></div>"
      ],
      "text/plain": [
       "<xarray.Dataset>\n",
       "Dimensions:  (i: 17280, i_g: 17280, j: 12960, j_g: 12960, k_l: 1)\n",
       "Coordinates:\n",
       "  * i        (i) int64 0 1 2 3 4 5 6 ... 17274 17275 17276 17277 17278 17279\n",
       "  * i_g      (i_g) int64 0 1 2 3 4 5 6 ... 17274 17275 17276 17277 17278 17279\n",
       "  * j        (j) int64 0 1 2 3 4 5 6 ... 12954 12955 12956 12957 12958 12959\n",
       "  * j_g      (j_g) int64 0 1 2 3 4 5 6 ... 12954 12955 12956 12957 12958 12959\n",
       "Dimensions without coordinates: k_l\n",
       "Data variables:\n",
       "    Theta    (j, i) float32 ...\n",
       "    U        (j, i_g) float32 ...\n",
       "    V        (j_g, i) float32 ...\n",
       "    W        (k_l, j, i) float32 ...\n",
       "    Salt     (j, i) float32 ..."
      ]
     },
     "execution_count": 95,
     "metadata": {},
     "output_type": "execute_result"
    }
   ],
   "source": [
    "ds"
   ]
  },
  {
   "cell_type": "code",
   "execution_count": null,
   "id": "e16dd816-c97b-4d63-944b-88703f8e1e1d",
   "metadata": {},
   "outputs": [],
   "source": []
  }
 ],
 "metadata": {
  "kernelspec": {
   "display_name": "Python 3 (ipykernel)",
   "language": "python",
   "name": "python3"
  },
  "language_info": {
   "codemirror_mode": {
    "name": "ipython",
    "version": 3
   },
   "file_extension": ".py",
   "mimetype": "text/x-python",
   "name": "python",
   "nbconvert_exporter": "python",
   "pygments_lexer": "ipython3",
   "version": "3.11.7"
  }
 },
 "nbformat": 4,
 "nbformat_minor": 5
}
