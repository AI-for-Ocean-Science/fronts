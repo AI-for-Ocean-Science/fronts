{
 "cells": [
  {
   "cell_type": "markdown",
   "id": "94442c7c-1b3f-4bd9-93f9-99a4258f899f",
   "metadata": {},
   "source": [
    "# Examine a few Predictions"
   ]
  },
  {
   "cell_type": "code",
   "execution_count": 78,
   "id": "d3e5e966-48bb-4f39-bf0e-5750723e30ce",
   "metadata": {},
   "outputs": [],
   "source": [
    "# imports\n",
    "import yaml\n",
    "\n",
    "import numpy as np\n",
    "import torch\n",
    "import h5py\n",
    "from torch.utils.data import Dataset\n",
    "from torch import nn\n",
    "from tqdm import tqdm\n",
    "\n",
    "from pytorch3dunet.unet3d.model import get_model\n",
    "from pytorch3dunet.unet3d.config import load_config\n",
    "from pytorch3dunet.unet3d import utils\n",
    "from pytorch3dunet.unet3d.model import UNet2D\n",
    "import pytorch3dunet.augment.transforms as transforms\n",
    "from pytorch3dunet.datasets.utils import calculate_stats\n",
    "\n",
    "from fronts.plotting import images\n",
    "from fronts.po import fronts as po_fronts"
   ]
  },
  {
   "cell_type": "markdown",
   "id": "17cfe986-b8a9-49cc-9555-80bbc03c0259",
   "metadata": {},
   "source": [
    "# Single image DataSet"
   ]
  },
  {
   "cell_type": "code",
   "execution_count": 40,
   "id": "5d870f98-ff47-4266-b5dd-75115f300393",
   "metadata": {},
   "outputs": [],
   "source": [
    "class ImageDataset(Dataset):\n",
    "    def __init__(self, raws, transform):\n",
    "        self.transformer = transform\n",
    "        self.raw = raws\n",
    "        self.raw_transform = self.transformer.raw_transform()\n",
    "\n",
    "    def __len__(self):\n",
    "        return 1\n",
    "\n",
    "    def __getitem__(self, global_idx):     \n",
    "        image = self.raw[global_idx]\n",
    "        image_transformed = self.raw_transform(image)\n",
    "        \n",
    "        return image_transformed"
   ]
  },
  {
   "cell_type": "markdown",
   "id": "300437e9-852c-4480-805e-f55d7be0c016",
   "metadata": {},
   "source": [
    "# Needed methods"
   ]
  },
  {
   "cell_type": "code",
   "execution_count": 20,
   "id": "2e48834e-5119-4d15-a5c9-a67b5a13f525",
   "metadata": {},
   "outputs": [],
   "source": [
    "def _is_2d_model(model):\n",
    "    if isinstance(model, nn.DataParallel):\n",
    "        model = model.module\n",
    "    return isinstance(model, UNet2D)"
   ]
  },
  {
   "cell_type": "markdown",
   "id": "3ea6d92f-37cc-4603-91f7-1de7f6dcf4cc",
   "metadata": {},
   "source": [
    "# Load config"
   ]
  },
  {
   "cell_type": "code",
   "execution_count": 8,
   "id": "067b51fe-41b6-416c-8bb4-cf4e423eeca5",
   "metadata": {},
   "outputs": [],
   "source": [
    "config = yaml.safe_load(open('llc4320_sst144_sss40_train.yml', 'r'))"
   ]
  },
  {
   "cell_type": "markdown",
   "id": "f8470808-e6ca-4ae7-9962-a871a05f65ff",
   "metadata": {},
   "source": [
    "# Load Model"
   ]
  },
  {
   "cell_type": "code",
   "execution_count": 9,
   "id": "f2f06b9e-ccc8-4796-8e15-fe09a02b6910",
   "metadata": {},
   "outputs": [],
   "source": [
    "model = get_model(config['model'])"
   ]
  },
  {
   "cell_type": "markdown",
   "id": "8881685b-2fd2-42bb-9ba7-b67667958a59",
   "metadata": {},
   "source": [
    "## Load Model State"
   ]
  },
  {
   "cell_type": "code",
   "execution_count": 14,
   "id": "06f0686f-679b-4c67-9ee7-3502ccf2961f",
   "metadata": {},
   "outputs": [],
   "source": [
    "#model_path = config['model_path']\n",
    "#logger.info(f'Loading model from {model_path}...')\n",
    "_ = utils.load_checkpoint('/home/xavier/Projects/Oceanography/data/OGCM/LLC/Fronts/Unet2D/best_checkpoint.pytorch', model)"
   ]
  },
  {
   "cell_type": "markdown",
   "id": "ae021276-6653-4362-80b1-1ddaf14052ec",
   "metadata": {},
   "source": [
    "## CPU/GPU"
   ]
  },
  {
   "cell_type": "code",
   "execution_count": 15,
   "id": "bb995de6-0c09-49b6-bb50-704559207709",
   "metadata": {},
   "outputs": [],
   "source": [
    "if torch.cuda.device_count() > 1 and not config['device'] == 'cpu':\n",
    "    model = nn.DataParallel(model)\n",
    "    #logger.info(f'Using {torch.cuda.device_count()} GPUs for prediction')\n",
    "if torch.cuda.is_available() and not config['device'] == 'cpu':\n",
    "    model = model.cuda()"
   ]
  },
  {
   "cell_type": "markdown",
   "id": "1b534a52-d752-47c4-a202-2d078009bed9",
   "metadata": {},
   "source": [
    "# Use valid data"
   ]
  },
  {
   "cell_type": "code",
   "execution_count": 21,
   "id": "71edf6b1-9f04-41e7-9b08-8822d411dc34",
   "metadata": {},
   "outputs": [],
   "source": [
    "valid_file = '/home/xavier/Projects/Oceanography/data/OGCM/LLC/Fronts/LLC4320_SST144_SSS40_valid.h5'"
   ]
  },
  {
   "cell_type": "code",
   "execution_count": 22,
   "id": "d2fde058-5c7f-409f-ad09-fbfe7b60b63b",
   "metadata": {},
   "outputs": [],
   "source": [
    "f = h5py.File(valid_file,'r')"
   ]
  },
  {
   "cell_type": "code",
   "execution_count": 61,
   "id": "c81a17a0-4258-4112-99f7-373994b29a22",
   "metadata": {},
   "outputs": [
    {
     "data": {
      "text/plain": [
       "np.float32(2563.0)"
      ]
     },
     "execution_count": 61,
     "metadata": {},
     "output_type": "execute_result"
    }
   ],
   "source": [
    "idx = 33\n",
    "img = f['inputs'][idx:idx+1]\n",
    "targ = f['targets'][idx:idx+1]\n",
    "targ.sum()"
   ]
  },
  {
   "cell_type": "markdown",
   "id": "919b3f55-039d-4716-ae5e-12d3a0eec484",
   "metadata": {},
   "source": [
    "## ImageLoader"
   ]
  },
  {
   "cell_type": "code",
   "execution_count": 28,
   "id": "4ec0234e-2696-4769-954c-84bfe81068b3",
   "metadata": {},
   "outputs": [],
   "source": [
    "transformer_config = config['loaders']['val']['transformer']\n",
    "stats = calculate_stats(None, True)\n",
    "transformer = transforms.Transformer(transformer_config, stats)"
   ]
  },
  {
   "cell_type": "code",
   "execution_count": 62,
   "id": "5c9048c2-9946-487c-a9f3-6a66a8c081ee",
   "metadata": {},
   "outputs": [],
   "source": [
    "iDataset = ImageDataset(img, transformer)"
   ]
  },
  {
   "cell_type": "code",
   "execution_count": 63,
   "id": "87d79c5b-657d-4bde-a8de-65f7c8b8f1db",
   "metadata": {},
   "outputs": [],
   "source": [
    "test_loader = torch.utils.data.DataLoader(\n",
    "                    iDataset, batch_size=1,\n",
    "                    shuffle=False,\n",
    "                    num_workers=1,\n",
    "                    pin_memory=False, sampler=None)"
   ]
  },
  {
   "cell_type": "markdown",
   "id": "9c7729ba-7c2d-4cf7-848a-625333ec4622",
   "metadata": {},
   "source": [
    "# Go for it"
   ]
  },
  {
   "cell_type": "code",
   "execution_count": 64,
   "id": "a725a132-b4c1-4848-8c02-e5c9f93ab7ef",
   "metadata": {},
   "outputs": [],
   "source": [
    "_ = model.eval()"
   ]
  },
  {
   "cell_type": "code",
   "execution_count": 65,
   "id": "d6eac43b-1be9-48c3-8996-ab1e35b21c20",
   "metadata": {},
   "outputs": [
    {
     "name": "stderr",
     "output_type": "stream",
     "text": [
      "100%|████████████████████████████████████████████| 1/1 [00:00<00:00,  3.24it/s]\n"
     ]
    }
   ],
   "source": [
    "with torch.no_grad():\n",
    "    for input in tqdm(test_loader):\n",
    "        # send batch to gpu\n",
    "        if torch.cuda.is_available():\n",
    "            input = input.pin_memory().cuda(non_blocking=True)\n",
    "\n",
    "        if _is_2d_model(model):\n",
    "            # remove the singleton z-dimension from the input\n",
    "            input = torch.squeeze(input, dim=-3)\n",
    "            # forward pass\n",
    "            prediction = model(input)\n",
    "            # add the singleton z-dimension to the output\n",
    "            prediction = torch.unsqueeze(prediction, dim=-3)\n",
    "        else:\n",
    "            # forward pass\n",
    "            prediction = model(input)"
   ]
  },
  {
   "cell_type": "code",
   "execution_count": 66,
   "id": "19f14741-c3f6-4f21-bda8-e0493391a988",
   "metadata": {},
   "outputs": [
    {
     "data": {
      "text/plain": [
       "torch.Size([1, 1, 1, 64, 64])"
      ]
     },
     "execution_count": 66,
     "metadata": {},
     "output_type": "execute_result"
    }
   ],
   "source": [
    "prediction.shape"
   ]
  },
  {
   "cell_type": "markdown",
   "id": "79aa2485-a6ae-4c6d-a228-ec8316e16c25",
   "metadata": {},
   "source": [
    "# View it!"
   ]
  },
  {
   "cell_type": "code",
   "execution_count": 67,
   "id": "5ca70224-1503-47bb-8aa5-49e7fe62e6dd",
   "metadata": {},
   "outputs": [
    {
     "data": {
      "text/plain": [
       "<Axes: >"
      ]
     },
     "execution_count": 67,
     "metadata": {},
     "output_type": "execute_result"
    },
    {
     "data": {
      "image/png": "[encoded data removed]",
      "text/plain": [
       "<Figure size 640x480 with 2 Axes>"
      ]
     },
     "metadata": {},
     "output_type": "display_data"
    }
   ],
   "source": [
    "images.show_image(prediction[0,0,0,...])"
   ]
  },
  {
   "cell_type": "code",
   "execution_count": 81,
   "id": "8eb140c3-5da7-42b7-b119-9bd95db7df88",
   "metadata": {},
   "outputs": [
    {
     "data": {
      "text/plain": [
       "<Axes: >"
      ]
     },
     "execution_count": 81,
     "metadata": {},
     "output_type": "execute_result"
    },
    {
     "data": {
      "image/png": "[encoded data removed]",
      "text/plain": [
       "<Figure size 640x480 with 2 Axes>"
      ]
     },
     "metadata": {},
     "output_type": "display_data"
    }
   ],
   "source": [
    "#images.show_image(targ[0,0,0,...])\n",
    "#images.show_image(np.log10(img[0,0,0,...]))\n",
    "images.show_image(img[0,2,0,...])"
   ]
  },
  {
   "cell_type": "code",
   "execution_count": 77,
   "id": "d86c32be-cbda-47b2-9ea3-6b48c7b5a7d6",
   "metadata": {},
   "outputs": [
    {
     "data": {
      "text/plain": [
       "<Axes: >"
      ]
     },
     "execution_count": 77,
     "metadata": {},
     "output_type": "execute_result"
    },
    {
     "data": {
      "image/png": "[encoded data removed]",
      "text/plain": [
       "<Figure size 640x480 with 2 Axes>"
      ]
     },
     "metadata": {},
     "output_type": "display_data"
    }
   ],
   "source": [
    "images.show_image(targ[0,0,0,...])"
   ]
  },
  {
   "cell_type": "markdown",
   "id": "46e6e49f-5769-4ee1-95b0-134912976fb2",
   "metadata": {},
   "source": [
    "# Actual $|\\nabla b^2|$"
   ]
  },
  {
   "cell_type": "code",
   "execution_count": 82,
   "id": "4d327b6c-c86c-4253-a67e-c3abb10f5b00",
   "metadata": {},
   "outputs": [
    {
     "data": {
      "text/plain": [
       "\u001b[0;31mSignature:\u001b[0m\n",
       "\u001b[0mimages\u001b[0m\u001b[0;34m.\u001b[0m\u001b[0mshow_image\u001b[0m\u001b[0;34m(\u001b[0m\u001b[0;34m\u001b[0m\n",
       "\u001b[0;34m\u001b[0m    \u001b[0mimg\u001b[0m\u001b[0;34m:\u001b[0m \u001b[0mnumpy\u001b[0m\u001b[0;34m.\u001b[0m\u001b[0mndarray\u001b[0m\u001b[0;34m,\u001b[0m\u001b[0;34m\u001b[0m\n",
       "\u001b[0;34m\u001b[0m    \u001b[0mcm\u001b[0m\u001b[0;34m=\u001b[0m\u001b[0;32mNone\u001b[0m\u001b[0;34m,\u001b[0m\u001b[0;34m\u001b[0m\n",
       "\u001b[0;34m\u001b[0m    \u001b[0mcbar\u001b[0m\u001b[0;34m:\u001b[0m \u001b[0mbool\u001b[0m \u001b[0;34m=\u001b[0m \u001b[0;32mTrue\u001b[0m\u001b[0;34m,\u001b[0m\u001b[0;34m\u001b[0m\n",
       "\u001b[0;34m\u001b[0m    \u001b[0mvmnx\u001b[0m\u001b[0;34m=\u001b[0m\u001b[0;34m(\u001b[0m\u001b[0;32mNone\u001b[0m\u001b[0;34m,\u001b[0m \u001b[0;32mNone\u001b[0m\u001b[0;34m)\u001b[0m\u001b[0;34m,\u001b[0m\u001b[0;34m\u001b[0m\n",
       "\u001b[0;34m\u001b[0m    \u001b[0mshow\u001b[0m\u001b[0;34m=\u001b[0m\u001b[0;32mFalse\u001b[0m\u001b[0;34m,\u001b[0m\u001b[0;34m\u001b[0m\n",
       "\u001b[0;34m\u001b[0m    \u001b[0mset_aspect\u001b[0m\u001b[0;34m=\u001b[0m\u001b[0;32mNone\u001b[0m\u001b[0;34m,\u001b[0m\u001b[0;34m\u001b[0m\n",
       "\u001b[0;34m\u001b[0m    \u001b[0mclbl\u001b[0m\u001b[0;34m=\u001b[0m\u001b[0;32mNone\u001b[0m\u001b[0;34m,\u001b[0m\u001b[0;34m\u001b[0m\n",
       "\u001b[0;34m\u001b[0m    \u001b[0max\u001b[0m\u001b[0;34m=\u001b[0m\u001b[0;32mNone\u001b[0m\u001b[0;34m,\u001b[0m\u001b[0;34m\u001b[0m\n",
       "\u001b[0;34m\u001b[0m\u001b[0;34m)\u001b[0m\u001b[0;34m\u001b[0m\u001b[0;34m\u001b[0m\u001b[0m\n",
       "\u001b[0;31mDocstring:\u001b[0m\n",
       "Dispay the cutout image\n",
       "Args:\n",
       "    img (np.ndarray): cutout image\n",
       "    cm ([type], optional): Color map to use. Defaults to None.\n",
       "        If None, load the heatmap above\n",
       "    cbar (bool, optional): If True, show a color bar. Defaults to True.\n",
       "    clbl ([type], optional): Color bar label. Defaults to None.\n",
       "    vmnx (tuple, optional): Set vmin, vmax. Defaults to None\n",
       "    set_aspect (str, optional):\n",
       "        Passed to ax.set_aspect() if provided\n",
       "    ax (matplotlib.Axis, optional): axis to use for the plot\n",
       "Returns:\n",
       "    matplotlib.Axis: axis containing the plot\n",
       "\u001b[0;31mFile:\u001b[0m      ~/Projects/Oceanography/python/fronts/fronts/plotting/images.py\n",
       "\u001b[0;31mType:\u001b[0m      function"
      ]
     },
     "metadata": {},
     "output_type": "display_data"
    }
   ],
   "source": [
    "images.show_image?"
   ]
  },
  {
   "cell_type": "code",
   "execution_count": null,
   "id": "240c0f25-69bc-4d1f-890c-9fbf3fb8a5e4",
   "metadata": {},
   "outputs": [],
   "source": [
    "Divb2 = po_fronts.calc_gradb("
   ]
  }
 ],
 "metadata": {
  "kernelspec": {
   "display_name": "Python 3 (ipykernel)",
   "language": "python",
   "name": "python3"
  },
  "language_info": {
   "codemirror_mode": {
    "name": "ipython",
    "version": 3
   },
   "file_extension": ".py",
   "mimetype": "text/x-python",
   "name": "python",
   "nbconvert_exporter": "python",
   "pygments_lexer": "ipython3",
   "version": "3.12.2"
  }
 },
 "nbformat": 4,
 "nbformat_minor": 5
}
