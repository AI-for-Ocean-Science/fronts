{
 "cells": [
  {
   "cell_type": "markdown",
   "id": "94442c7c-1b3f-4bd9-93f9-99a4258f899f",
   "metadata": {},
   "source": [
    "# Examine a few Predictions"
   ]
  },
  {
   "cell_type": "code",
   "execution_count": 1,
   "id": "d3e5e966-48bb-4f39-bf0e-5750723e30ce",
   "metadata": {},
   "outputs": [],
   "source": [
    "# imports\n",
    "import os\n",
    "import yaml\n",
    "\n",
    "import numpy as np\n",
    "import h5py\n",
    "import pandas\n",
    "\n",
    "import torch\n",
    "from torch.utils.data import Dataset\n",
    "from torch import nn\n",
    "from tqdm import tqdm\n",
    "\n",
    "from matplotlib import pyplot as plt\n",
    "import seaborn as sns\n",
    "\n",
    "from pytorch3dunet.unet3d.model import get_model\n",
    "from pytorch3dunet.unet3d.config import load_config\n",
    "from pytorch3dunet.unet3d import utils\n",
    "from pytorch3dunet.unet3d.model import UNet2D\n",
    "import pytorch3dunet.augment.transforms as transforms\n",
    "from pytorch3dunet.datasets.utils import calculate_stats\n",
    "\n",
    "from fronts.plotting import images\n",
    "from fronts.po import fronts as po_fronts"
   ]
  },
  {
   "cell_type": "markdown",
   "id": "17cfe986-b8a9-49cc-9555-80bbc03c0259",
   "metadata": {},
   "source": [
    "# Single image DataSet"
   ]
  },
  {
   "cell_type": "code",
   "execution_count": 2,
   "id": "5d870f98-ff47-4266-b5dd-75115f300393",
   "metadata": {},
   "outputs": [],
   "source": [
    "class ImageDataset(Dataset):\n",
    "    def __init__(self, raws, transform):\n",
    "        self.transformer = transform\n",
    "        self.raw = raws\n",
    "        self.raw_transform = self.transformer.raw_transform()\n",
    "\n",
    "    def __len__(self):\n",
    "        return 1\n",
    "\n",
    "    def __getitem__(self, global_idx):     \n",
    "        image = self.raw[global_idx]\n",
    "        image_transformed = self.raw_transform(image)\n",
    "        \n",
    "        return image_transformed"
   ]
  },
  {
   "cell_type": "markdown",
   "id": "300437e9-852c-4480-805e-f55d7be0c016",
   "metadata": {},
   "source": [
    "# Needed methods"
   ]
  },
  {
   "cell_type": "code",
   "execution_count": 3,
   "id": "2e48834e-5119-4d15-a5c9-a67b5a13f525",
   "metadata": {},
   "outputs": [],
   "source": [
    "def _is_2d_model(model):\n",
    "    if isinstance(model, nn.DataParallel):\n",
    "        model = model.module\n",
    "    return isinstance(model, UNet2D)"
   ]
  },
  {
   "cell_type": "markdown",
   "id": "3ea6d92f-37cc-4603-91f7-1de7f6dcf4cc",
   "metadata": {},
   "source": [
    "# Load config"
   ]
  },
  {
   "cell_type": "code",
   "execution_count": 4,
   "id": "067b51fe-41b6-416c-8bb4-cf4e423eeca5",
   "metadata": {},
   "outputs": [],
   "source": [
    "config = yaml.safe_load(open('llc4320_sst144_sss40_trainAA.yml', 'r'))"
   ]
  },
  {
   "cell_type": "markdown",
   "id": "f8470808-e6ca-4ae7-9962-a871a05f65ff",
   "metadata": {},
   "source": [
    "# Load Model"
   ]
  },
  {
   "cell_type": "code",
   "execution_count": 5,
   "id": "f2f06b9e-ccc8-4796-8e15-fe09a02b6910",
   "metadata": {},
   "outputs": [],
   "source": [
    "model = get_model(config['model'])"
   ]
  },
  {
   "cell_type": "markdown",
   "id": "8881685b-2fd2-42bb-9ba7-b67667958a59",
   "metadata": {},
   "source": [
    "## Load Model State"
   ]
  },
  {
   "cell_type": "code",
   "execution_count": 6,
   "id": "06f0686f-679b-4c67-9ee7-3502ccf2961f",
   "metadata": {},
   "outputs": [
    {
     "name": "stderr",
     "output_type": "stream",
     "text": [
      "/tank/xavier/Oceanography/python/pytorch-3dunet/pytorch3dunet/unet3d/utils.py:51: FutureWarning: You are using `torch.load` with `weights_only=False` (the current default value), which uses the default pickle module implicitly. It is possible to construct malicious pickle data which will execute arbitrary code during unpickling (See https://github.com/pytorch/pytorch/blob/main/SECURITY.md#untrusted-models for more details). In a future release, the default value for `weights_only` will be flipped to `True`. This limits the functions that could be executed during unpickling. Arbitrary objects will no longer be allowed to be loaded via this mode unless they are explicitly allowlisted by the user via `torch.serialization.add_safe_globals`. We recommend you start setting `weights_only=True` for any use case where you don't have full control of the loaded file. Please open an issue on GitHub for any issues related to this experimental feature.\n",
      "  state = torch.load(checkpoint_path, map_location='cpu')\n"
     ]
    }
   ],
   "source": [
    "#model_path = config['model_path']\n",
    "#logger.info(f'Loading model from {model_path}...')\n",
    "_ = utils.load_checkpoint(os.path.join(os.getenv('OS_OGCM'), 'LLC', 'Fronts', 'Models', 'A', 'best_checkpoint.pytorch'), model)"
   ]
  },
  {
   "cell_type": "markdown",
   "id": "ae021276-6653-4362-80b1-1ddaf14052ec",
   "metadata": {},
   "source": [
    "## CPU/GPU"
   ]
  },
  {
   "cell_type": "code",
   "execution_count": 7,
   "id": "7aed1b99-f33d-4468-8e4d-658506fe53b9",
   "metadata": {},
   "outputs": [
    {
     "data": {
      "text/plain": [
       "1"
      ]
     },
     "execution_count": 7,
     "metadata": {},
     "output_type": "execute_result"
    }
   ],
   "source": [
    "torch.cuda.device_count()"
   ]
  },
  {
   "cell_type": "code",
   "execution_count": 8,
   "id": "bb995de6-0c09-49b6-bb50-704559207709",
   "metadata": {},
   "outputs": [],
   "source": [
    "config['device'] = 'gpu'\n",
    "if torch.cuda.device_count() > 1 and not config['device'] == 'cpu':\n",
    "    model = nn.DataParallel(model)\n",
    "    #logger.info(f'Using {torch.cuda.device_count()} GPUs for prediction')\n",
    "if torch.cuda.is_available() and not config['device'] == 'cpu':\n",
    "    model = model.cuda()"
   ]
  },
  {
   "cell_type": "markdown",
   "id": "1b534a52-d752-47c4-a202-2d078009bed9",
   "metadata": {},
   "source": [
    "# Use valid data"
   ]
  },
  {
   "cell_type": "code",
   "execution_count": 39,
   "id": "71edf6b1-9f04-41e7-9b08-8822d411dc34",
   "metadata": {},
   "outputs": [],
   "source": [
    "valid_file = os.path.join(os.getenv('OS_OGCM'), 'LLC', 'Fronts', 'Training_Sets', 'LLC4320_SST144_SSS40_validA.h5')\n",
    "valid_tfile = valid_file.replace('h5', 'parquet')\n",
    "train_file = valid_file.replace('valid', 'train')\n",
    "train_tfile = valid_tfile.replace('valid', 'train')"
   ]
  },
  {
   "cell_type": "code",
   "execution_count": 40,
   "id": "583c830e-4212-4c91-9e7f-dc70c5fa213f",
   "metadata": {},
   "outputs": [],
   "source": [
    "valid_tbl = pandas.read_parquet(valid_tfile)\n",
    "train_tbl = pandas.read_parquet(train_tfile)"
   ]
  },
  {
   "cell_type": "code",
   "execution_count": 41,
   "id": "d2fde058-5c7f-409f-ad09-fbfe7b60b63b",
   "metadata": {},
   "outputs": [],
   "source": [
    "#f.close()\n",
    "f = h5py.File(valid_file,'r')\n",
    "ft = h5py.File(train_file,'r')"
   ]
  },
  {
   "cell_type": "code",
   "execution_count": 45,
   "id": "c81a17a0-4258-4112-99f7-373994b29a22",
   "metadata": {},
   "outputs": [],
   "source": [
    "use_valid = False\n",
    "idx = 9\n",
    "\n",
    "if use_valid:\n",
    "    img = f['inputs'][idx:idx+1]\n",
    "    targ = f['targets'][idx:idx+1]\n",
    "    targ.sum(), valid_tbl.iloc[idx].UID\n",
    "else:\n",
    "    # Training image\n",
    "    img = ft['inputs'][idx:idx+1]\n",
    "    targ = ft['targets'][idx:idx+1]\n",
    "    targ.sum(), train_tbl.iloc[idx].UID"
   ]
  },
  {
   "cell_type": "code",
   "execution_count": 46,
   "id": "b17a90fe-d57c-43e8-b611-aaa3304c214b",
   "metadata": {},
   "outputs": [
    {
     "data": {
      "text/plain": [
       "np.bytes_(b'13165319868507291')"
      ]
     },
     "execution_count": 46,
     "metadata": {},
     "output_type": "execute_result"
    }
   ],
   "source": [
    "f['inputs'].attrs['UID'][idx]"
   ]
  },
  {
   "cell_type": "markdown",
   "id": "919b3f55-039d-4716-ae5e-12d3a0eec484",
   "metadata": {},
   "source": [
    "## ImageLoader"
   ]
  },
  {
   "cell_type": "code",
   "execution_count": 47,
   "id": "4ec0234e-2696-4769-954c-84bfe81068b3",
   "metadata": {},
   "outputs": [],
   "source": [
    "transformer_config = config['loaders']['val']['transformer']\n",
    "stats = calculate_stats(None, True)\n",
    "transformer = transforms.Transformer(transformer_config, stats)"
   ]
  },
  {
   "cell_type": "code",
   "execution_count": 48,
   "id": "5c9048c2-9946-487c-a9f3-6a66a8c081ee",
   "metadata": {},
   "outputs": [],
   "source": [
    "iDataset = ImageDataset(img, transformer)"
   ]
  },
  {
   "cell_type": "code",
   "execution_count": 49,
   "id": "87d79c5b-657d-4bde-a8de-65f7c8b8f1db",
   "metadata": {},
   "outputs": [],
   "source": [
    "test_loader = torch.utils.data.DataLoader(\n",
    "                    iDataset, batch_size=1,\n",
    "                    shuffle=False,\n",
    "                    num_workers=1,\n",
    "                    pin_memory=False, sampler=None)"
   ]
  },
  {
   "cell_type": "markdown",
   "id": "9c7729ba-7c2d-4cf7-848a-625333ec4622",
   "metadata": {},
   "source": [
    "# Go for it"
   ]
  },
  {
   "cell_type": "code",
   "execution_count": 50,
   "id": "a725a132-b4c1-4848-8c02-e5c9f93ab7ef",
   "metadata": {},
   "outputs": [],
   "source": [
    "_ = model.eval()"
   ]
  },
  {
   "cell_type": "code",
   "execution_count": 51,
   "id": "d6eac43b-1be9-48c3-8996-ab1e35b21c20",
   "metadata": {},
   "outputs": [
    {
     "name": "stderr",
     "output_type": "stream",
     "text": [
      "100%|████████████████████████████████████████████| 1/1 [00:00<00:00,  1.71it/s]\n"
     ]
    }
   ],
   "source": [
    "with torch.no_grad():\n",
    "    for input in tqdm(test_loader):\n",
    "        # send batch to gpu\n",
    "        if torch.cuda.is_available():\n",
    "            input = input.pin_memory().cuda(non_blocking=True)\n",
    "\n",
    "        if _is_2d_model(model):\n",
    "            # remove the singleton z-dimension from the input\n",
    "            input = torch.squeeze(input, dim=-3)\n",
    "            # forward pass\n",
    "            prediction = model(input)\n",
    "            # add the singleton z-dimension to the output\n",
    "            prediction = torch.unsqueeze(prediction, dim=-3)\n",
    "        else:\n",
    "            # forward pass\n",
    "            prediction = model(input)"
   ]
  },
  {
   "cell_type": "markdown",
   "id": "79aa2485-a6ae-4c6d-a228-ec8316e16c25",
   "metadata": {},
   "source": [
    "# View it!"
   ]
  },
  {
   "cell_type": "code",
   "execution_count": 52,
   "id": "5ca70224-1503-47bb-8aa5-49e7fe62e6dd",
   "metadata": {},
   "outputs": [
    {
     "data": {
      "text/plain": [
       "<Axes: >"
      ]
     },
     "execution_count": 52,
     "metadata": {},
     "output_type": "execute_result"
    },
    {
     "data": {
      "image/png": "[encoded data removed]",
      "text/plain": [
       "<Figure size 640x480 with 2 Axes>"
      ]
     },
     "metadata": {},
     "output_type": "display_data"
    }
   ],
   "source": [
    "images.show_image(prediction[0,0,0,...].cpu())"
   ]
  },
  {
   "cell_type": "code",
   "execution_count": 53,
   "id": "8eb140c3-5da7-42b7-b119-9bd95db7df88",
   "metadata": {},
   "outputs": [
    {
     "data": {
      "text/plain": [
       "<Axes: >"
      ]
     },
     "execution_count": 53,
     "metadata": {},
     "output_type": "execute_result"
    },
    {
     "data": {
      "image/png": "[encoded data removed]",
      "text/plain": [
       "<Figure size 640x480 with 2 Axes>"
      ]
     },
     "metadata": {},
     "output_type": "display_data"
    }
   ],
   "source": [
    "#images.show_image(targ[0,0,0,...])\n",
    "#images.show_image(np.log10(img[0,0,0,...]))\n",
    "images.show_image(img[0,0,0,...])"
   ]
  },
  {
   "cell_type": "code",
   "execution_count": 54,
   "id": "8036ba7c-5dd8-48e7-bb0d-12e14067dd84",
   "metadata": {},
   "outputs": [
    {
     "data": {
      "text/plain": [
       "<Axes: >"
      ]
     },
     "execution_count": 54,
     "metadata": {},
     "output_type": "execute_result"
    },
    {
     "data": {
      "image/png": "[encoded data removed]",
      "text/plain": [
       "<Figure size 640x480 with 2 Axes>"
      ]
     },
     "metadata": {},
     "output_type": "display_data"
    }
   ],
   "source": [
    "images.show_image(img[0,2,0,...])"
   ]
  },
  {
   "cell_type": "code",
   "execution_count": 55,
   "id": "d86c32be-cbda-47b2-9ea3-6b48c7b5a7d6",
   "metadata": {},
   "outputs": [
    {
     "data": {
      "text/plain": [
       "<Axes: >"
      ]
     },
     "execution_count": 55,
     "metadata": {},
     "output_type": "execute_result"
    },
    {
     "data": {
      "image/png": "[encoded data removed]",
      "text/plain": [
       "<Figure size 640x480 with 2 Axes>"
      ]
     },
     "metadata": {},
     "output_type": "display_data"
    }
   ],
   "source": [
    "images.show_image(targ[0,0,0,...])"
   ]
  },
  {
   "cell_type": "markdown",
   "id": "46e6e49f-5769-4ee1-95b0-134912976fb2",
   "metadata": {},
   "source": [
    "# Actual $|\\nabla b^2|$"
   ]
  },
  {
   "cell_type": "code",
   "execution_count": 38,
   "id": "abaabec3-adfc-45ac-9b8b-a2db30b9c68b",
   "metadata": {},
   "outputs": [
    {
     "data": {
      "text/plain": [
       "['SST', 'SSS', 'Divb2']"
      ]
     },
     "execution_count": 38,
     "metadata": {},
     "output_type": "execute_result"
    }
   ],
   "source": [
    "llc_d = np.load('/home/xavier/Projects/Oceanography/data/OGCM/LLC/Fronts/llc.npz')\n",
    "list(llc_d.keys())"
   ]
  },
  {
   "cell_type": "code",
   "execution_count": 90,
   "id": "967d7a89-42d8-4e9b-b662-1f57b341bb16",
   "metadata": {},
   "outputs": [
    {
     "data": {
      "text/plain": [
       "(np.float64(4.311967260609761e-16),\n",
       " np.float64(1.8115615432278538e-14),\n",
       " np.float64(2.98340686008002e-14))"
      ]
     },
     "execution_count": 90,
     "metadata": {},
     "output_type": "execute_result"
    }
   ],
   "source": [
    "p05, p90, p95 = np.percentile(llc_d['Divb2'].flatten(), [5,90,95])\n",
    "p05, p90, p95"
   ]
  },
  {
   "cell_type": "code",
   "execution_count": 91,
   "id": "99700a21-081c-4d63-835b-0688b184e052",
   "metadata": {},
   "outputs": [
    {
     "data": {
      "text/plain": [
       "<Axes: >"
      ]
     },
     "execution_count": 91,
     "metadata": {},
     "output_type": "execute_result"
    },
    {
     "data": {
      "image/png": "[encoded data removed]",
      "text/plain": [
       "<Figure size 640x480 with 2 Axes>"
      ]
     },
     "metadata": {},
     "output_type": "display_data"
    }
   ],
   "source": [
    "images.show_image(llc_d['SST'])"
   ]
  },
  {
   "cell_type": "code",
   "execution_count": 94,
   "id": "52417548-aa16-439f-8333-f406279c7460",
   "metadata": {},
   "outputs": [
    {
     "data": {
      "text/plain": [
       "<Axes: >"
      ]
     },
     "execution_count": 94,
     "metadata": {},
     "output_type": "execute_result"
    },
    {
     "data": {
      "image/png": "[encoded data removed]",
      "text/plain": [
       "<Figure size 640x480 with 2 Axes>"
      ]
     },
     "metadata": {},
     "output_type": "display_data"
    }
   ],
   "source": [
    "images.show_image(llc_d['Divb2'] * (llc_d['Divb2'] > p90))#, cm='Greys')\n",
    "#images.show_image(llc_d['SST'])"
   ]
  },
  {
   "cell_type": "code",
   "execution_count": 93,
   "id": "37e5c3d9-e023-4e08-9863-d50a19c1622d",
   "metadata": {},
   "outputs": [
    {
     "data": {
      "text/plain": [
       "<Axes: >"
      ]
     },
     "execution_count": 93,
     "metadata": {},
     "output_type": "execute_result"
    },
    {
     "data": {
      "image/png": "[encoded data removed]",
      "text/plain": [
       "<Figure size 640x480 with 2 Axes>"
      ]
     },
     "metadata": {},
     "output_type": "display_data"
    }
   ],
   "source": [
    "images.show_image(llc_d['Divb2'] > 1e-14, cm='Greys')"
   ]
  },
  {
   "cell_type": "code",
   "execution_count": 55,
   "id": "a6af453d-c6bd-48ce-ba16-c0dafdbf6a22",
   "metadata": {},
   "outputs": [
    {
     "data": {
      "text/plain": [
       "np.float64(1.2663906629927777e-16)"
      ]
     },
     "execution_count": 55,
     "metadata": {},
     "output_type": "execute_result"
    }
   ],
   "source": [
    "llc_d['Divb2'].min()"
   ]
  },
  {
   "cell_type": "code",
   "execution_count": 60,
   "id": "9212efdd-ea71-4c82-9ed1-4a794cf2a94c",
   "metadata": {},
   "outputs": [
    {
     "data": {
      "image/png": "[encoded data removed]",
      "text/plain": [
       "<Figure size 500x500 with 1 Axes>"
      ]
     },
     "metadata": {},
     "output_type": "display_data"
    }
   ],
   "source": [
    "fig = plt.figure(figsize=(5,5))\n",
    "ax = plt.gca()\n",
    "#\n",
    "sns.histplot(np.log10(llc_d['Divb2']).flatten(), ax=ax, bins=50)\n",
    "#\n",
    "plt.show()"
   ]
  },
  {
   "cell_type": "code",
   "execution_count": 59,
   "id": "e9a707d3-f913-42ce-90f1-9edd7eb77b8d",
   "metadata": {},
   "outputs": [
    {
     "data": {
      "text/plain": [
       "(64, 64)"
      ]
     },
     "execution_count": 59,
     "metadata": {},
     "output_type": "execute_result"
    }
   ],
   "source": [
    "llc_d['Divb2'].shape"
   ]
  },
  {
   "cell_type": "code",
   "execution_count": 62,
   "id": "fcb6833d-797e-49b9-8cc2-6dfeae97b947",
   "metadata": {},
   "outputs": [
    {
     "data": {
      "text/plain": [
       "np.float64(1.3947229853101787e-12)"
      ]
     },
     "execution_count": 62,
     "metadata": {},
     "output_type": "execute_result"
    }
   ],
   "source": [
    "llc_d['Divb2'].std()"
   ]
  },
  {
   "cell_type": "code",
   "execution_count": null,
   "id": "8e2a8db8-7faa-4c0f-8e05-a37732a9129c",
   "metadata": {},
   "outputs": [],
   "source": []
  }
 ],
 "metadata": {
  "kernelspec": {
   "display_name": "Python 3 (ipykernel)",
   "language": "python",
   "name": "python3"
  },
  "language_info": {
   "codemirror_mode": {
    "name": "ipython",
    "version": 3
   },
   "file_extension": ".py",
   "mimetype": "text/x-python",
   "name": "python",
   "nbconvert_exporter": "python",
   "pygments_lexer": "ipython3",
   "version": "3.12.5"
  }
 },
 "nbformat": 4,
 "nbformat_minor": 5
}
